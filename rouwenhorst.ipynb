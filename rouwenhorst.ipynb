{
 "cells": [
  {
   "cell_type": "code",
   "execution_count": null,
   "metadata": {},
   "outputs": [],
   "source": [
    "## Discretização via Rouwenhorst\n",
    "function disc_r(N, mu, sigma, rho, m)\n",
    "    p = (1 + rho)/2\n",
    "    # matriz inicial\n",
    "    PN = [p 1-p;1-p p]\n",
    "    # Adcionar linhas e colunas a partir de P2 = PN inicial\n",
    "    # Pensando em quadrantes\n",
    "    for i in 3:N\n",
    "        Xq1 = hcat(PN,zeros(i-1))\n",
    "        Xq1 = vcat(Xq1,zeros(1,i))\n",
    "\n",
    "        Xq2 = hcat(zeros(i-1), PN)\n",
    "        Xq2 = vcat(Xq2,zeros(1,i))\n",
    "\n",
    "        Xq3 = hcat(PN,zeros(i-1))\n",
    "        Xq3 = vcat(zeros(1,i),Xq3)\n",
    "\n",
    "        Xq4 = hcat(zeros(i-1), PN)\n",
    "        Xq4 = vcat(zeros(1,i),Xq4)\n",
    "\n",
    "        PN = p.*Xq1 +(1-p).*Xq2 + (1-p).*Xq3 + p.*Xq4\n",
    "    end #loop de preenchimento\n",
    "\n",
    "    # definir theta com o desvio padrao adequado\n",
    "    st = sigma/sqrt(1-rho^2)\n",
    "    theta_1 = mu - st*sqrt(N-1)\n",
    "    theta_N = mu + st*sqrt(N-1)\n",
    "    theta = LinRange(theta_1,theta_N,N)\n",
    "\n",
    "    # normalização das linhas para que somem 1\n",
    "    for i in 1:N\n",
    "        PN[i,:] = PN[i,:]/sum(PN[i,:])\n",
    "    end # normalização\n",
    "    \n",
    "    return theta, PN\n",
    "end\n"
   ]
  },
  {
   "cell_type": "code",
   "execution_count": null,
   "metadata": {},
   "outputs": [],
   "source": []
  }
 ],
 "metadata": {
  "kernelspec": {
   "display_name": "Julia 1.7.2",
   "language": "julia",
   "name": "julia-1.7"
  },
  "language_info": {
   "file_extension": ".jl",
   "mimetype": "application/julia",
   "name": "julia",
   "version": "1.7.2"
  },
  "orig_nbformat": 4
 },
 "nbformat": 4,
 "nbformat_minor": 2
}
