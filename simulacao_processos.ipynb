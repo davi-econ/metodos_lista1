{
 "cells": [
  {
   "cell_type": "code",
   "execution_count": 2,
   "metadata": {},
   "outputs": [
    {
     "data": {
      "text/plain": [
       "simulacao_processos (generic function with 1 method)"
      ]
     },
     "metadata": {},
     "output_type": "display_data"
    }
   ],
   "source": [
    "# Essa função gera vetores de simulação para cada um dos processos: contínuo, tauchen e Rouwenhorst, respectivamente; com base nos dados fornecidos do processo\n",
    "function simulacao_processos(N;rho = 0.95,mu = 0, sigma =0.007,n =9,m=3)\n",
    "    theta_t,P_t = disc_t( n; mu, sigma, rho, m)\n",
    "    theta_r,P_r = disc_r( n; mu, sigma, rho, m)\n",
    "    # padronizar a aleatorização \n",
    "    seed = MersenneTwister(35)\n",
    "    # sorteio dos erros\n",
    "    erros = sigma.*randn(seed,Float64,(N,1))\n",
    "    # vetores vazios\n",
    "    z = zeros(N,1)\n",
    "    z_t = zeros(N,1)\n",
    "    z_r = zeros(N,1)            \n",
    "    # ponta pé inicial\n",
    "    z_t[1,1] = mu\n",
    "    z_r[1,1] = mu\n",
    "    i_t = argmin(abs.(theta_t .- z_t[1,1]))\n",
    "    i_r = argmin(abs.(theta_r .- z_r[1,1])) \n",
    "    # AR(1)    \n",
    "    for i in 2:N\n",
    "        z[i,1] = (1-rho)*mu + rho*z[i-1] + erros[i,1]\n",
    "    end \n",
    "    # Tauchen e Rouwenhorst\n",
    "    for i in 2:N\n",
    "        i_t = argmin(abs.(theta_t .- dot(theta_t[:,1],P_t[i_t,:]) .- erros[i,1]))\n",
    "        i_r = argmin(abs.(theta_r .- dot(theta_r[:,1],P_r[i_r,:]) .- erros[i,1]))\n",
    "        z_t[i,1] =  theta_t[i_t]\n",
    "        z_r[i,1] =  theta_r[i_r]\n",
    "    end \n",
    "    \n",
    "    return z, z_t, z_r\n",
    "end # função de simulaçao"
   ]
  }
 ],
 "metadata": {
  "kernelspec": {
   "display_name": "Julia 1.7.2",
   "language": "julia",
   "name": "julia-1.7"
  },
  "language_info": {
   "file_extension": ".jl",
   "mimetype": "application/julia",
   "name": "julia",
   "version": "1.7.2"
  },
  "orig_nbformat": 4
 },
 "nbformat": 4,
 "nbformat_minor": 2
}
